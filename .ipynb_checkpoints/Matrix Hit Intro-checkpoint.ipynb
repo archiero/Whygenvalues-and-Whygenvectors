{
 "cells": [
  {
   "cell_type": "code",
   "execution_count": 10,
   "metadata": {},
   "outputs": [],
   "source": [
    "import numpy as np\n",
    "from numpy import linalg"
   ]
  },
  {
   "cell_type": "markdown",
   "metadata": {},
   "source": [
    "Inputs will be two 2d arrays and a current location. The eigenvectors will be like [[1,2],1] where the first entry is the eigenvector and the second is the corresponding eigenvalue. I figure that we could either use a stock set of eigenvectors or let the user input their own. Now, I'm going to mess with several different versions of this to see which is fastest then test them all using the bottom cell. Note: I got the timing function while slacking off and reading this old essay by Guido (http://legacy.python.org/doc/essays/list2str/)"
   ]
  },
  {
   "cell_type": "code",
   "execution_count": 2,
   "metadata": {},
   "outputs": [],
   "source": [
    "def matrixhit(eigen_1,eigen_2,current):\n",
    "    vec_1 = eigen_1[0]\n",
    "    vec_2 = eigen_2[0]\n",
    "    S = np.array([[vec_1[0], vec_2[0]],[vec_1[1], vec_2[1]]])\n",
    "    D = np.array([[eigen_1[1], 0],[0,eigen_2[1]]])\n",
    "    SD = np.matmul(S,D)\n",
    "    S_inv_Current = np.matmul(np.linalg.inv(S),current)\n",
    "    return(np.matmul(SD, S_inv_Current))\n",
    "#\n",
    "\n",
    "\n",
    "\n",
    "\n",
    "\n",
    "\n",
    "\n",
    "\n",
    "\n",
    "\n",
    "\n",
    "\n",
    "\n",
    "\n",
    "\n",
    "\n",
    "\n",
    "\n",
    "\n",
    "def matrixhit2(eigen_1,eigen_2, current):\n",
    "    vec_1 = eigen_1[0]\n",
    "    vec_2 = eigen_2[0]\n",
    "    S = np.array([[vec_1[0], vec_2[0]],[vec_1[1], vec_2[1]]])\n",
    "    D = np.array([[eigen_1[1], 0],[0,eigen_2[1]]])\n",
    "    return(np.matmul(S,np.matmul(D,np.matmul(np.linalg.inv(S), current))))\n",
    "\n",
    "def matrixhit3(eigen_1,eigen_2, current):\n",
    "    from functools import reduce\n",
    "    vec_1 = eigen_1[0]\n",
    "    vec_2 = eigen_2[0]\n",
    "    S = np.array([[vec_1[0], vec_2[0]],[vec_1[1], vec_2[1]]])\n",
    "    D = np.array([[eigen_1[1], 0],[0,eigen_2[1]]])\n",
    "    return(reduce(np.matmul, [S,D,np.linalg.inv(S), current]))\n"
   ]
  },
  {
   "cell_type": "code",
   "execution_count": 3,
   "metadata": {},
   "outputs": [
    {
     "name": "stdout",
     "output_type": "stream",
     "text": [
      "matrixhit\n",
      "3.382\n",
      "matrixhit2\n",
      "3.18\n",
      "matrixhit3\n",
      "3.725\n"
     ]
    }
   ],
   "source": [
    "from time import process_time\n",
    "def timing(f, n, a, b, N):\n",
    "    print(f.__name__,)\n",
    "    r = range(n)\n",
    "    t1 = process_time()\n",
    "    for i in r:\n",
    "        f(a, b, N);  f(a, b, N); f(a, b, N); f(a, b, N); f(a, b, N);\n",
    "    t2 = process_time()\n",
    "    print(round(t2-t1, 3))\n",
    "for func in [matrixhit, matrixhit2, matrixhit3]:\n",
    "    timing(func,10000, [[2,1],2],[[-1,2],.5],[1,1])"
   ]
  },
  {
   "cell_type": "markdown",
   "metadata": {},
   "source": [
    "Now that we know which matrix multiplication function will work the best for us, we need to start messing with the Ipython widgets to make it interactive. Here are a few examples I got from this site (https://blog.dominodatalab.com/interactive-dashboards-in-jupyter/) that I found really helpful. They show the basic of how to make widgets."
   ]
  },
  {
   "cell_type": "code",
   "execution_count": 4,
   "metadata": {},
   "outputs": [
    {
     "data": {
      "application/vnd.jupyter.widget-view+json": {
       "model_id": "8d13dc6cc3ed421aa516ddf2c3ab317c",
       "version_major": 2,
       "version_minor": 0
      },
      "text/html": [
       "<p>Failed to display Jupyter Widget of type <code>Text</code>.</p>\n",
       "<p>\n",
       "  If you're reading this message in the Jupyter Notebook or JupyterLab Notebook, it may mean\n",
       "  that the widgets JavaScript is still loading. If this message persists, it\n",
       "  likely means that the widgets JavaScript library is either not installed or\n",
       "  not enabled. See the <a href=\"https://ipywidgets.readthedocs.io/en/stable/user_install.html\">Jupyter\n",
       "  Widgets Documentation</a> for setup instructions.\n",
       "</p>\n",
       "<p>\n",
       "  If you're reading this message in another frontend (for example, a static\n",
       "  rendering on GitHub or <a href=\"https://nbviewer.jupyter.org/\">NBViewer</a>),\n",
       "  it may mean that your frontend doesn't currently support widgets.\n",
       "</p>\n"
      ],
      "text/plain": [
       "Text(value='')"
      ]
     },
     "metadata": {},
     "output_type": "display_data"
    }
   ],
   "source": [
    "from IPython.display import display\n",
    "from ipywidgets import widgets\n",
    "text = widgets.Text()\n",
    "def handle_submit(sender):\n",
    "    print(\"You have typed \" + text.value)\n",
    "text.on_submit(handle_submit)\n",
    "display(text)"
   ]
  },
  {
   "cell_type": "code",
   "execution_count": 5,
   "metadata": {},
   "outputs": [
    {
     "data": {
      "application/vnd.jupyter.widget-view+json": {
       "model_id": "8e8a7cd36fc14b319f3163155021ad72",
       "version_major": 2,
       "version_minor": 0
      },
      "text/html": [
       "<p>Failed to display Jupyter Widget of type <code>Button</code>.</p>\n",
       "<p>\n",
       "  If you're reading this message in the Jupyter Notebook or JupyterLab Notebook, it may mean\n",
       "  that the widgets JavaScript is still loading. If this message persists, it\n",
       "  likely means that the widgets JavaScript library is either not installed or\n",
       "  not enabled. See the <a href=\"https://ipywidgets.readthedocs.io/en/stable/user_install.html\">Jupyter\n",
       "  Widgets Documentation</a> for setup instructions.\n",
       "</p>\n",
       "<p>\n",
       "  If you're reading this message in another frontend (for example, a static\n",
       "  rendering on GitHub or <a href=\"https://nbviewer.jupyter.org/\">NBViewer</a>),\n",
       "  it may mean that your frontend doesn't currently support widgets.\n",
       "</p>\n"
      ],
      "text/plain": [
       "Button(description='Button', style=ButtonStyle())"
      ]
     },
     "metadata": {},
     "output_type": "display_data"
    }
   ],
   "source": [
    "button = widgets.Button(description = \"Button\")\n",
    "\n",
    "def when_clicked(b):\n",
    "    print(\"You have clicked the button\")\n",
    "    \n",
    "button.on_click(when_clicked)\n",
    "display(button)"
   ]
  },
  {
   "cell_type": "code",
   "execution_count": 6,
   "metadata": {},
   "outputs": [
    {
     "data": {
      "application/vnd.jupyter.widget-view+json": {
       "model_id": "59eb931e73f74b8d8dbc5e0b15a1589d",
       "version_major": 2,
       "version_minor": 0
      },
      "text/html": [
       "<p>Failed to display Jupyter Widget of type <code>interactive</code>.</p>\n",
       "<p>\n",
       "  If you're reading this message in the Jupyter Notebook or JupyterLab Notebook, it may mean\n",
       "  that the widgets JavaScript is still loading. If this message persists, it\n",
       "  likely means that the widgets JavaScript library is either not installed or\n",
       "  not enabled. See the <a href=\"https://ipywidgets.readthedocs.io/en/stable/user_install.html\">Jupyter\n",
       "  Widgets Documentation</a> for setup instructions.\n",
       "</p>\n",
       "<p>\n",
       "  If you're reading this message in another frontend (for example, a static\n",
       "  rendering on GitHub or <a href=\"https://nbviewer.jupyter.org/\">NBViewer</a>),\n",
       "  it may mean that your frontend doesn't currently support widgets.\n",
       "</p>\n"
      ],
      "text/plain": [
       "interactive(children=(FloatSlider(value=5.0, description='f', max=10.0, min=1.0), Output()), _dom_classes=('widget-interact',))"
      ]
     },
     "metadata": {},
     "output_type": "display_data"
    },
    {
     "data": {
      "text/plain": [
       "<function __main__.pltsin>"
      ]
     },
     "execution_count": 6,
     "metadata": {},
     "output_type": "execute_result"
    }
   ],
   "source": [
    "import matplotlib.pyplot as plt\n",
    "pi = 3.1415932\n",
    "t = np.arange(0,1,.01)\n",
    "\n",
    "def pltsin(f):\n",
    "    plt.plot(t,np.sin(2*pi*t*f))\n",
    "    plt.show()\n",
    "\n",
    "widgets.interact(pltsin, f = (1,10,.1))"
   ]
  },
  {
   "cell_type": "code",
   "execution_count": 7,
   "metadata": {},
   "outputs": [
    {
     "data": {
      "application/vnd.jupyter.widget-view+json": {
       "model_id": "632e09004b4946b5bd3eae684dc7a022",
       "version_major": 2,
       "version_minor": 0
      },
      "text/html": [
       "<p>Failed to display Jupyter Widget of type <code>Text</code>.</p>\n",
       "<p>\n",
       "  If you're reading this message in the Jupyter Notebook or JupyterLab Notebook, it may mean\n",
       "  that the widgets JavaScript is still loading. If this message persists, it\n",
       "  likely means that the widgets JavaScript library is either not installed or\n",
       "  not enabled. See the <a href=\"https://ipywidgets.readthedocs.io/en/stable/user_install.html\">Jupyter\n",
       "  Widgets Documentation</a> for setup instructions.\n",
       "</p>\n",
       "<p>\n",
       "  If you're reading this message in another frontend (for example, a static\n",
       "  rendering on GitHub or <a href=\"https://nbviewer.jupyter.org/\">NBViewer</a>),\n",
       "  it may mean that your frontend doesn't currently support widgets.\n",
       "</p>\n"
      ],
      "text/plain": [
       "Text(value='', description='input')"
      ]
     },
     "metadata": {},
     "output_type": "display_data"
    },
    {
     "data": {
      "application/vnd.jupyter.widget-view+json": {
       "model_id": "da1a4ff4c012416695972085778b9d0f",
       "version_major": 2,
       "version_minor": 0
      },
      "text/html": [
       "<p>Failed to display Jupyter Widget of type <code>Text</code>.</p>\n",
       "<p>\n",
       "  If you're reading this message in the Jupyter Notebook or JupyterLab Notebook, it may mean\n",
       "  that the widgets JavaScript is still loading. If this message persists, it\n",
       "  likely means that the widgets JavaScript library is either not installed or\n",
       "  not enabled. See the <a href=\"https://ipywidgets.readthedocs.io/en/stable/user_install.html\">Jupyter\n",
       "  Widgets Documentation</a> for setup instructions.\n",
       "</p>\n",
       "<p>\n",
       "  If you're reading this message in another frontend (for example, a static\n",
       "  rendering on GitHub or <a href=\"https://nbviewer.jupyter.org/\">NBViewer</a>),\n",
       "  it may mean that your frontend doesn't currently support widgets.\n",
       "</p>\n"
      ],
      "text/plain": [
       "Text(value='', description='Upper Case')"
      ]
     },
     "metadata": {},
     "output_type": "display_data"
    }
   ],
   "source": [
    "output_text = widgets.Text(description = \"Upper Case\")\n",
    "input_text = widgets.Text(description = \"input\")\n",
    "def make_upper(sender):\n",
    "    output_text.value = input_text.value.upper()\n",
    "input_text.on_submit(make_upper)\n",
    "display(input_text)\n",
    "display(output_text)"
   ]
  },
  {
   "cell_type": "code",
   "execution_count": 8,
   "metadata": {},
   "outputs": [
    {
     "data": {
      "application/vnd.jupyter.widget-view+json": {
       "model_id": "5cb98ccc943e4673a7192767d93065e5",
       "version_major": 2,
       "version_minor": 0
      },
      "text/html": [
       "<p>Failed to display Jupyter Widget of type <code>interactive</code>.</p>\n",
       "<p>\n",
       "  If you're reading this message in the Jupyter Notebook or JupyterLab Notebook, it may mean\n",
       "  that the widgets JavaScript is still loading. If this message persists, it\n",
       "  likely means that the widgets JavaScript library is either not installed or\n",
       "  not enabled. See the <a href=\"https://ipywidgets.readthedocs.io/en/stable/user_install.html\">Jupyter\n",
       "  Widgets Documentation</a> for setup instructions.\n",
       "</p>\n",
       "<p>\n",
       "  If you're reading this message in another frontend (for example, a static\n",
       "  rendering on GitHub or <a href=\"https://nbviewer.jupyter.org/\">NBViewer</a>),\n",
       "  it may mean that your frontend doesn't currently support widgets.\n",
       "</p>\n"
      ],
      "text/plain": [
       "interactive(children=(Text(value='0.1', description='x'), Output()), _dom_classes=('widget-interact',))"
      ]
     },
     "metadata": {},
     "output_type": "display_data"
    },
    {
     "data": {
      "text/plain": [
       "<function __main__.double_string>"
      ]
     },
     "execution_count": 8,
     "metadata": {},
     "output_type": "execute_result"
    }
   ],
   "source": [
    "def double_string(x):\n",
    "    return(2*float(x))\n",
    "#feel free to change from within the text box\n",
    "widgets.interact(double_string, x = \"0.1\")"
   ]
  },
  {
   "cell_type": "code",
   "execution_count": 45,
   "metadata": {},
   "outputs": [
    {
     "data": {
      "application/vnd.jupyter.widget-view+json": {
       "model_id": "c07adb6046ca4141b67d340935e76514",
       "version_major": 2,
       "version_minor": 0
      },
      "text/html": [
       "<p>Failed to display Jupyter Widget of type <code>Text</code>.</p>\n",
       "<p>\n",
       "  If you're reading this message in the Jupyter Notebook or JupyterLab Notebook, it may mean\n",
       "  that the widgets JavaScript is still loading. If this message persists, it\n",
       "  likely means that the widgets JavaScript library is either not installed or\n",
       "  not enabled. See the <a href=\"https://ipywidgets.readthedocs.io/en/stable/user_install.html\">Jupyter\n",
       "  Widgets Documentation</a> for setup instructions.\n",
       "</p>\n",
       "<p>\n",
       "  If you're reading this message in another frontend (for example, a static\n",
       "  rendering on GitHub or <a href=\"https://nbviewer.jupyter.org/\">NBViewer</a>),\n",
       "  it may mean that your frontend doesn't currently support widgets.\n",
       "</p>\n"
      ],
      "text/plain": [
       "Text(value='', description='1st vector')"
      ]
     },
     "metadata": {},
     "output_type": "display_data"
    },
    {
     "data": {
      "application/vnd.jupyter.widget-view+json": {
       "model_id": "7bad679ed5e54945b812ecd116e378cc",
       "version_major": 2,
       "version_minor": 0
      },
      "text/html": [
       "<p>Failed to display Jupyter Widget of type <code>Text</code>.</p>\n",
       "<p>\n",
       "  If you're reading this message in the Jupyter Notebook or JupyterLab Notebook, it may mean\n",
       "  that the widgets JavaScript is still loading. If this message persists, it\n",
       "  likely means that the widgets JavaScript library is either not installed or\n",
       "  not enabled. See the <a href=\"https://ipywidgets.readthedocs.io/en/stable/user_install.html\">Jupyter\n",
       "  Widgets Documentation</a> for setup instructions.\n",
       "</p>\n",
       "<p>\n",
       "  If you're reading this message in another frontend (for example, a static\n",
       "  rendering on GitHub or <a href=\"https://nbviewer.jupyter.org/\">NBViewer</a>),\n",
       "  it may mean that your frontend doesn't currently support widgets.\n",
       "</p>\n"
      ],
      "text/plain": [
       "Text(value='', description='2nd vector')"
      ]
     },
     "metadata": {},
     "output_type": "display_data"
    },
    {
     "data": {
      "application/vnd.jupyter.widget-view+json": {
       "model_id": "093294065abd46ec8c492231924d0224",
       "version_major": 2,
       "version_minor": 0
      },
      "text/html": [
       "<p>Failed to display Jupyter Widget of type <code>Text</code>.</p>\n",
       "<p>\n",
       "  If you're reading this message in the Jupyter Notebook or JupyterLab Notebook, it may mean\n",
       "  that the widgets JavaScript is still loading. If this message persists, it\n",
       "  likely means that the widgets JavaScript library is either not installed or\n",
       "  not enabled. See the <a href=\"https://ipywidgets.readthedocs.io/en/stable/user_install.html\">Jupyter\n",
       "  Widgets Documentation</a> for setup instructions.\n",
       "</p>\n",
       "<p>\n",
       "  If you're reading this message in another frontend (for example, a static\n",
       "  rendering on GitHub or <a href=\"https://nbviewer.jupyter.org/\">NBViewer</a>),\n",
       "  it may mean that your frontend doesn't currently support widgets.\n",
       "</p>\n"
      ],
      "text/plain": [
       "Text(value='', description='1st value')"
      ]
     },
     "metadata": {},
     "output_type": "display_data"
    },
    {
     "data": {
      "application/vnd.jupyter.widget-view+json": {
       "model_id": "f4a2751d42ad4bf48738e5acbcdd9586",
       "version_major": 2,
       "version_minor": 0
      },
      "text/html": [
       "<p>Failed to display Jupyter Widget of type <code>Text</code>.</p>\n",
       "<p>\n",
       "  If you're reading this message in the Jupyter Notebook or JupyterLab Notebook, it may mean\n",
       "  that the widgets JavaScript is still loading. If this message persists, it\n",
       "  likely means that the widgets JavaScript library is either not installed or\n",
       "  not enabled. See the <a href=\"https://ipywidgets.readthedocs.io/en/stable/user_install.html\">Jupyter\n",
       "  Widgets Documentation</a> for setup instructions.\n",
       "</p>\n",
       "<p>\n",
       "  If you're reading this message in another frontend (for example, a static\n",
       "  rendering on GitHub or <a href=\"https://nbviewer.jupyter.org/\">NBViewer</a>),\n",
       "  it may mean that your frontend doesn't currently support widgets.\n",
       "</p>\n"
      ],
      "text/plain": [
       "Text(value='', description='2nd value')"
      ]
     },
     "metadata": {},
     "output_type": "display_data"
    },
    {
     "data": {
      "application/vnd.jupyter.widget-view+json": {
       "model_id": "83269d5588a94f71a311b537833d0469",
       "version_major": 2,
       "version_minor": 0
      },
      "text/html": [
       "<p>Failed to display Jupyter Widget of type <code>Text</code>.</p>\n",
       "<p>\n",
       "  If you're reading this message in the Jupyter Notebook or JupyterLab Notebook, it may mean\n",
       "  that the widgets JavaScript is still loading. If this message persists, it\n",
       "  likely means that the widgets JavaScript library is either not installed or\n",
       "  not enabled. See the <a href=\"https://ipywidgets.readthedocs.io/en/stable/user_install.html\">Jupyter\n",
       "  Widgets Documentation</a> for setup instructions.\n",
       "</p>\n",
       "<p>\n",
       "  If you're reading this message in another frontend (for example, a static\n",
       "  rendering on GitHub or <a href=\"https://nbviewer.jupyter.org/\">NBViewer</a>),\n",
       "  it may mean that your frontend doesn't currently support widgets.\n",
       "</p>\n"
      ],
      "text/plain": [
       "Text(value='', description='start location')"
      ]
     },
     "metadata": {},
     "output_type": "display_data"
    },
    {
     "data": {
      "application/vnd.jupyter.widget-view+json": {
       "model_id": "0dc9c93325f24b3c8c49d08313d211a6",
       "version_major": 2,
       "version_minor": 0
      },
      "text/html": [
       "<p>Failed to display Jupyter Widget of type <code>Button</code>.</p>\n",
       "<p>\n",
       "  If you're reading this message in the Jupyter Notebook or JupyterLab Notebook, it may mean\n",
       "  that the widgets JavaScript is still loading. If this message persists, it\n",
       "  likely means that the widgets JavaScript library is either not installed or\n",
       "  not enabled. See the <a href=\"https://ipywidgets.readthedocs.io/en/stable/user_install.html\">Jupyter\n",
       "  Widgets Documentation</a> for setup instructions.\n",
       "</p>\n",
       "<p>\n",
       "  If you're reading this message in another frontend (for example, a static\n",
       "  rendering on GitHub or <a href=\"https://nbviewer.jupyter.org/\">NBViewer</a>),\n",
       "  it may mean that your frontend doesn't currently support widgets.\n",
       "</p>\n"
      ],
      "text/plain": [
       "Button(description='Plot', style=ButtonStyle())"
      ]
     },
     "metadata": {},
     "output_type": "display_data"
    },
    {
     "data": {
      "image/png": "[encoded data removed]",
      "text/plain": [
       "<Figure size 400x300 with 1 Axes>"
      ]
     },
     "metadata": {},
     "output_type": "display_data"
    },
    {
     "data": {
      "image/png": "[encoded data removed]",
      "text/plain": [
       "<Figure size 400x300 with 1 Axes>"
      ]
     },
     "metadata": {},
     "output_type": "display_data"
    }
   ],
   "source": [
    "#Define some useful functions here:\n",
    "def matrixhit(vec_1,vec_2, val_1, val_2, current):\n",
    "    S = np.array([[vec_1[0], vec_2[0]],[vec_1[1], vec_2[1]]])\n",
    "    D = np.array([[val_1, 0],[0, val_2]])\n",
    "    return(np.matmul(S,np.matmul(D,np.matmul(np.linalg.inv(S), current))))\n",
    "\n",
    "def repeatedhit(vec_1,vec_2, val_1, val_2, start, steps):\n",
    "    current = start\n",
    "    for i in range(steps):\n",
    "        current = matrixhit(vec_1,vec_2, val_1, val_2, current)\n",
    "    return(current)\n",
    "#This just lays down a bunch of simple matplotlib.pyplot commands. I decided to organize them here in one place.\n",
    "def simple_plot(x_values, y_values, xrange, yrange, style, size, include_axes = True):\n",
    "    fig = plt.figure(figsize=size, dpi=100)\n",
    "    plt.plot(x_values, y_values, style)\n",
    "    plt.xlim(xrange[0],xrange[1])\n",
    "    plt.xticks(np.arange(xrange[0],xrange[1],1))\n",
    "    plt.ylim(yrange[0],yrange[1])\n",
    "    plt.yticks(np.arange(yrange[0],yrange[1],1))\n",
    "    plt.axvline(ymin=yrange[0], ymax=yrange[1])\n",
    "    plt.axhline(xmin=yrange[0], xmax=yrange[1])\n",
    "\n",
    "#Generate all of the widgets\n",
    "vec_1_text = widgets.Text(description = \"1st vector\")\n",
    "vec_2_text = widgets.Text(description = \"2nd vector\")\n",
    "val_1_text = widgets.Text(description = \"1st value\")\n",
    "val_2_text = widgets.Text(description = \"2nd value\")\n",
    "start_text = widgets.Text(description = \"start location\")\n",
    "go_button = widgets.Button(description = \"Plot\")\n",
    "#Initial stock values\n",
    "vec_1 = [1,2]\n",
    "vec_2 = [-2,1]\n",
    "val_1 = 1.25\n",
    "val_2 = .75\n",
    "start = [1,1]\n",
    "#What actually plots the stuff\n",
    "def plot_bunch(t):\n",
    "    try:\n",
    "        val_1 = eval(val_1_text.value); start = eval(start_text.value); val_2 = eval(val_2_text.value)\n",
    "        vec_2 = eval(vec_2_text.value); vec_1 = eval(vec_1_text.value)\n",
    "        points = [repeatedhit(vec_1, vec_2, val_1, val_2, start, step) for step in range(15)]\n",
    "        xs = [point[0] for point in points]\n",
    "        ys = [point[1] for point in points]\n",
    "        simple_plot(xs, ys, [-5,5],[-5,5], 'ro', (4,3))\n",
    "        plt.show()\n",
    "    except NameError:\n",
    "        print(\"Define the variables please\")\n",
    "        print(vec_1)\n",
    "        print(vec_2)\n",
    "        print(val_1)\n",
    "        print(val_2)\n",
    "        print(start)\n",
    "    \n",
    "#Tells it to plot when button is clicked\n",
    "go_button.on_click(plot_bunch)\n",
    "#Actually displays everything\n",
    "display(vec_1_text)\n",
    "display(vec_2_text)\n",
    "display(val_1_text)\n",
    "display(val_2_text)\n",
    "display(start_text)\n",
    "display(go_button)\n",
    "        "
   ]
  }
 ],
 "metadata": {
  "kernelspec": {
   "display_name": "Python 3",
   "language": "python",
   "name": "python3"
  },
  "language_info": {
   "codemirror_mode": {
    "name": "ipython",
    "version": 3
   },
   "file_extension": ".py",
   "mimetype": "text/x-python",
   "name": "python",
   "nbconvert_exporter": "python",
   "pygments_lexer": "ipython3",
   "version": "3.6.4"
  }
 },
 "nbformat": 4,
 "nbformat_minor": 2
}
